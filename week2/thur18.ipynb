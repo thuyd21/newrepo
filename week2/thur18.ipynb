{
 "cells": [
  {
   "cell_type": "code",
   "execution_count": null,
   "metadata": {},
   "outputs": [],
   "source": [
    "# DEFINING THE PROBLEM\n",
    "\n",
    "\n",
    "\n",
    "#loads of ideas and honing on the right one \n",
    "\n",
    "#by focusung on\n",
    "#ROI Analysis \n",
    "#to reduce the ideas by detrmining whether idead has a valueor not and cut you losses if not\n",
    "# exploratory analysis "
   ]
  },
  {
   "cell_type": "code",
   "execution_count": null,
   "metadata": {},
   "outputs": [],
   "source": [
    "#In Python, class and def serve different purposes in structuring your code, especially when starting a game program. class:\n",
    "\n",
    "#Purpose: A class is used to define a blueprint for creating objects. It encapsulates data (attributes) and behavior (methods) related to a specific concept or entity.\n",
    "\n",
    "#Usage in Game Development: You might use a class to represent game entities like characters, enemies, items, or the game itself. Each class would define the properties and actions associated with that entity.\n",
    "\n",
    "\n",
    "\n",
    "#def:\n",
    "#Purpose: def is used to define functions. Functions are blocks of code that perform a specific task or return a value. They are not tied to any specific instance or object.\n",
    "#Usage in Game Development: You might use functions to define general game logic, such as handling input, updating the game state, or managing the game loop.\n"
   ]
  }
 ],
 "metadata": {
  "language_info": {
   "name": "python"
  }
 },
 "nbformat": 4,
 "nbformat_minor": 2
}

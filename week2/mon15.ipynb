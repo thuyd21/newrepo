{
 "cells": [
  {
   "cell_type": "code",
   "execution_count": null,
   "metadata": {},
   "outputs": [],
   "source": [
    "# video one\n",
    "# talking about job roles and decription for the first 3hour\n",
    "# data infrastructure \n",
    "# refers to a system to store, process and manage data within an organisation\n",
    "\n",
    "#data anaylst create decisions (growining business )\n",
    "\n"
   ]
  }
 ],
 "metadata": {
  "language_info": {
   "name": "python"
  }
 },
 "nbformat": 4,
 "nbformat_minor": 2
}

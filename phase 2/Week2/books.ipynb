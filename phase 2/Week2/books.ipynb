{
 "cells": [
  {
   "cell_type": "code",
   "execution_count": 11,
   "metadata": {},
   "outputs": [
    {
     "name": "stdout",
     "output_type": "stream",
     "text": [
      "x is smth else\n"
     ]
    }
   ],
   "source": [
    "# tuesday 09.01.24\n",
    "# second video part 1 / starting from 6mins in\n",
    "\n",
    "# Nested Select Statements\n",
    "# used when we want to check a secondary condition\n",
    "\n",
    "#if first expression is TRUE, we can place second if statement inside of the first\n",
    "#ie \n",
    "x = 2\n",
    "y = 2\n",
    "\n",
    "if x == 1:\n",
    "#first statement is true the check second (y)\n",
    "    if y ==1:\n",
    "        print('x is 1')\n",
    "        print('y is 1')\n",
    "    else:\n",
    "        print('x is 1')\n",
    "        print('y is not 1')\n",
    "# seperate out side, if first statement is wrong \n",
    "else: \n",
    "    print('x is smth else')\n",
    "    \n"
   ]
  },
  {
   "cell_type": "code",
   "execution_count": 25,
   "metadata": {},
   "outputs": [],
   "source": [
    "#task 1\n",
    "#create a till system that will outout the correct entrace fee\n",
    "\n",
    "# pensioners and teens are free\n",
    "# regular £5\n",
    "# adult with swim card get 50% discount\n",
    "\n",
    "price = \"£5\"\n",
    "discountprice = \"£2\"\n",
    "swimcard = \"£2.5\"\n",
    "\n",
    "Welcome = input(\"Welcome to Thuy's Swimming Pool, whats your name?\")\n",
    "age = int(input(\"\\nHow old are you?\"))\n",
    "\n",
    "start = input(f\"'Hi {Welcome} do you have a swimcard?'\")\n",
    "\n",
    "def tillsystem():\n",
    "   \n",
    "    if start.lower == \"yes\":\n",
    "        print(\"that will be \" + swimcard)\n",
    "    elif start.lower != \"yes\":\n",
    "        if age < 16: \n",
    "            print(\"that will be \" + discountprice)\n",
    "        if age > 65:\n",
    "            print(\"that will be \" + discountprice)\n",
    "    else:\n",
    "        print(\"that will be \" + price)\n",
    "\n",
    "# code is good but idk why it isnt printing \n",
    "#input are all working \n",
    "        \n",
    " \n",
    "#no answers was given lol work it out urself\n",
    "      \n",
    "#ANSWER: MORE ANSWER IN NEXT CODE\n",
    "#You could achieve similar functionality using elif, \n",
    "#but it would involve adding another condition to check if the age is between 16 and 65. \n",
    "#Using else simplifies the code and makes it more readable,\n"
   ]
  },
  {
   "cell_type": "code",
   "execution_count": null,
   "metadata": {},
   "outputs": [],
   "source": [
    "#old code:\n",
    "price = \"£5\"\n",
    "discountprice = \"£2\"\n",
    "swimcard = \"£2.5\"\n",
    "\n",
    "Welcome = input(\"Welcome to Thuy's Swimming Pool, whats your name?\")\n",
    "age = int(input(\"\\nHow old are you?\"))\n",
    "\n",
    "start = input(f\"'Hi {Welcome} do you have a swimcard?'\")\n",
    "\n",
    "def tillsystem():\n",
    "   \n",
    "    if input == \"yes\":\n",
    "        print(\"that will be \" + swimcard)\n",
    "    elif input != \"yes\":\n",
    "        if age < 16: \n",
    "            print(\"that will be \" + discountprice)\n",
    "        if age > 65:\n",
    "            print(\"that will be \" + discountprice)\n",
    "##ChatGPT\n",
    "#It looks like there are a couple of issues in your code. Let me help you correct them:\n",
    "\n",
    "#The variable start is taking user input but not being used in your function.\n",
    "#You should use the variable start in your function to determine whether the user has a swim card or not.\n",
    "#Instead of comparing the user input to \"yes\" using if input == \"yes\", you should compare it to the variable start."
   ]
  },
  {
   "cell_type": "code",
   "execution_count": 27,
   "metadata": {},
   "outputs": [
    {
     "name": "stdout",
     "output_type": "stream",
     "text": [
      "That will be £2.5\n"
     ]
    }
   ],
   "source": [
    "# FINAL VER\n",
    "price = \"£5\"\n",
    "discountprice = \"£2\"\n",
    "swimcard = \"£2.5\"\n",
    "\n",
    "Welcome = input(\"Welcome to Thuy's Swimming Pool, what's your name?\")\n",
    "age = int(input(\"\\nHow old are you?\"))\n",
    "start = input(f\"Hi {Welcome}, do you have a swimcard? (yes/no)\")\n",
    "\n",
    "def tillsystem():\n",
    "    if start.lower() == \"yes\":\n",
    "        print(\"That will be \" + swimcard)\n",
    "    else:\n",
    "        if age < 16 or age > 65:\n",
    "            print(\"That will be \" + discountprice)\n",
    "        else:\n",
    "            print(\"That will be \" + price)\n",
    "\n",
    "tillsystem()"
   ]
  },
  {
   "cell_type": "code",
   "execution_count": null,
   "metadata": {},
   "outputs": [],
   "source": [
    "# More loops\n",
    "#\n",
    "# indefinite iterations \n",
    "# boolean expressions can be used to control whether a loop is repeated \n",
    "# code will be repeated as long as the expression is true:\n",
    "\n",
    "\n",
    "count = 1 \n",
    "while count <10:\n",
    "    print(count)\n",
    "    count += 1\n",
    "#so in this instance it will keep adding one to count until it is no longer less than 10\n",
    " \n",
    "# once again += means \n",
    "x = 5 \n",
    "y = 3\n",
    "x += y  # Equivalent to x = x + y\n",
    "print(x)  # Output: 8"
   ]
  },
  {
   "cell_type": "code",
   "execution_count": 36,
   "metadata": {},
   "outputs": [
    {
     "name": "stdout",
     "output_type": "stream",
     "text": [
      "incorrect password. please try again\n"
     ]
    }
   ],
   "source": [
    "# while loop \n",
    "# we can also repeat the code until a criteria is met:\n",
    "# entry = \"\"\n",
    "# password = '123'\n",
    "#while entry != password, != is operator is used to check whether the contents not equal to __\n",
    "#    entry = input('enter password)\n",
    "\n",
    "\n",
    "entry = input('enter password')\n",
    "password = '123'\n",
    "while entry != password:\n",
    "    print('incorrect password. please try again')\n",
    "    entry = input('enter password')\n",
    "    # from here the code will keep running until the correct password is correct\n",
    "    # with this we can add and expand, if correct say welcome, 3 times wrong then timer block\n",
    "\n",
    "# infinte loops \n",
    "    # if we need a loop to run, we can set a logical test that will always evalute to TRUE\n",
    "#  while TRUE: \n",
    "#       print('this goes on forever')"
   ]
  },
  {
   "cell_type": "code",
   "execution_count": null,
   "metadata": {},
   "outputs": [],
   "source": [
    "# Time 27mins 30 seconds \n",
    "#\n",
    "#\n",
    "while guess !="
   ]
  },
  {
   "cell_type": "code",
   "execution_count": 45,
   "metadata": {},
   "outputs": [
    {
     "name": "stdout",
     "output_type": "stream",
     "text": [
      "total: 3\n"
     ]
    }
   ],
   "source": [
    "# task (31mins)\n",
    "# ask user to enter series of number\n",
    "# create total by adding each numer to the last \n",
    "# stop adding numbers when the user types zero\n",
    "# print out total at the end \n",
    "\n",
    "total1 = 0 \n",
    "#while True (true has to be captital T)\n",
    "while True:\n",
    "    num = int(input('enter a number (0 to stop)'))\n",
    "    if num ==0:\n",
    "        break \n",
    "    total1+=num\n",
    "print('total:', total1)"
   ]
  },
  {
   "cell_type": "markdown",
   "metadata": {},
   "source": []
  }
 ],
 "metadata": {
  "kernelspec": {
   "display_name": "Python 3",
   "language": "python",
   "name": "python3"
  },
  "language_info": {
   "codemirror_mode": {
    "name": "ipython",
    "version": 3
   },
   "file_extension": ".py",
   "mimetype": "text/x-python",
   "name": "python",
   "nbconvert_exporter": "python",
   "pygments_lexer": "ipython3",
   "version": "3.12.1"
  }
 },
 "nbformat": 4,
 "nbformat_minor": 2
}

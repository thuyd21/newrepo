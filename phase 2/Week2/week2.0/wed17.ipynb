{
 "cells": [
  {
   "cell_type": "markdown",
   "metadata": {},
   "source": [
    "## python library \n",
    "\n",
    "# NumPy \n",
    "# a library for scientific computing in python \n",
    "# come pre-installed with anaconda enviroment but installed seperatelty ie for \n",
    "# provides support for large multi deimensional arrays and matrices \n",
    "# contains high level mathematical \n",
    "# created by travis oliphant in 2005\n",
    "\n",
    "# can be imported in python code:\n",
    "#         import numpy as np\n",
    "#  \n",
    "\n",
    "\n",
    "# teacher - hard to visuallise all the code in ur head so google "
   ]
  },
  {
   "cell_type": "code",
   "execution_count": 2,
   "metadata": {},
   "outputs": [],
   "source": [
    "# NumPy Fundamentals \n",
    "\n",
    "import numpy as np\n"
   ]
  },
  {
   "cell_type": "code",
   "execution_count": 3,
   "metadata": {},
   "outputs": [
    {
     "name": "stdout",
     "output_type": "stream",
     "text": [
      "[1 2 3]\n"
     ]
    }
   ],
   "source": [
    "## 1 dimensional array \n",
    "\n",
    "m1darray = np.array([1,2,3])\n",
    "print(m1darray)\n"
   ]
  },
  {
   "cell_type": "code",
   "execution_count": 5,
   "metadata": {},
   "outputs": [
    {
     "name": "stdout",
     "output_type": "stream",
     "text": [
      "[[1 2 3]\n",
      " [4 5 6]]\n"
     ]
    }
   ],
   "source": [
    "## 2 dimensional array \n",
    "my2darray = np.array([[1,2,3,], [4,5,6]])\n",
    "print(my2darray)\n",
    "\n",
    "#here with two array we need double square brackets \n",
    "# 2 dimenion is list of lists "
   ]
  },
  {
   "cell_type": "code",
   "execution_count": 8,
   "metadata": {},
   "outputs": [
    {
     "data": {
      "text/plain": [
       "dtype('int64')"
      ]
     },
     "execution_count": 8,
     "metadata": {},
     "output_type": "execute_result"
    }
   ],
   "source": [
    "m1darray.dtype\n"
   ]
  },
  {
   "cell_type": "code",
   "execution_count": 31,
   "metadata": {},
   "outputs": [
    {
     "data": {
      "text/plain": [
       "dtype('int64')"
      ]
     },
     "execution_count": 31,
     "metadata": {},
     "output_type": "execute_result"
    }
   ],
   "source": [
    "my2darray.dtype\n"
   ]
  },
  {
   "cell_type": "code",
   "execution_count": 30,
   "metadata": {},
   "outputs": [
    {
     "name": "stdout",
     "output_type": "stream",
     "text": [
      "[[1. 2. 3.]\n",
      " [4. 5. 6.]]\n"
     ]
    }
   ],
   "source": [
    "## specifying the data type\n",
    "# ie into a float\n",
    "my2darrayfloat = np.array([[1,2,3,],[4,5,6]],dtype='float16')\n",
    "print(my2darrayfloat)\n",
    "\n",
    "#dtype = 'float16' why cant it be 15 or 12\n",
    "\n",
    "\n",
    "#chat gpt\n",
    "#float16: 16 bits (half precision)\n",
    "#float32: 32 bits (single precision)\n",
    "#float64: 64 bits (double precision)"
   ]
  },
  {
   "cell_type": "code",
   "execution_count": 25,
   "metadata": {},
   "outputs": [
    {
     "data": {
      "text/plain": [
       "dtype('float32')"
      ]
     },
     "execution_count": 25,
     "metadata": {},
     "output_type": "execute_result"
    }
   ],
   "source": [
    "my2darrayfloat.dtype\n"
   ]
  },
  {
   "cell_type": "code",
   "execution_count": null,
   "metadata": {},
   "outputs": [],
   "source": [
    "my2darrayfloat = np.array([[1,2,3,],[4,5,6]],dtype='float16')\n",
    "print(my2darrayfloat)"
   ]
  },
  {
   "cell_type": "code",
   "execution_count": 36,
   "metadata": {},
   "outputs": [],
   "source": [
    "# if your array has a conbination of integer float and string \n",
    "# square bracket is for list\n",
    "# we using both normal bracket and square ones as its contains multiple data types \n",
    "\n",
    "\n",
    "charArray1 = np.array([(1, 'a', 3), (4, 5, 'zzz')])\n",
    "\n",
    "charArray2 = np.array([(1, 'a', 3), (4, 5, 'zzz')], dtype = 'U11')\n",
    "# second line to assign what we want the dtype to be although i dont understand why\n",
    "#python prioritise strings over integers"
   ]
  },
  {
   "cell_type": "markdown",
   "metadata": {},
   "source": [
    "# look back"
   ]
  },
  {
   "cell_type": "code",
   "execution_count": 35,
   "metadata": {},
   "outputs": [
    {
     "data": {
      "text/plain": [
       "dtype('<U21')"
      ]
     },
     "execution_count": 35,
     "metadata": {},
     "output_type": "execute_result"
    }
   ],
   "source": [
    "charArray1.dtype\n",
    "\n",
    "#also u have to run charArray1 before it can find the dtype\n",
    "#dtype('<U21') u means its a unicode\n",
    "# U11\n",
    "#whats a unicode\n",
    "# so it represent the max number of values,string length u should have in that array \n"
   ]
  },
  {
   "cell_type": "code",
   "execution_count": 37,
   "metadata": {},
   "outputs": [
    {
     "data": {
      "text/plain": [
       "dtype('<U11')"
      ]
     },
     "execution_count": 37,
     "metadata": {},
     "output_type": "execute_result"
    }
   ],
   "source": [
    "charArray2.dtype"
   ]
  },
  {
   "cell_type": "code",
   "execution_count": 39,
   "metadata": {},
   "outputs": [
    {
     "name": "stdout",
     "output_type": "stream",
     "text": [
      "[[0. 0. 0.]\n",
      " [0. 0. 0.]]\n"
     ]
    }
   ],
   "source": [
    "# array of initialization \n",
    "\n",
    "number_rows = 2\n",
    "number_columns = 3 \n",
    "\n",
    "#array of 0 \n",
    "arrays0 = np.zeros([number_rows, number_columns])\n",
    "arrays0 = np.zeros([2, 3])\n",
    "arrays0 = np.zeros([number_rows, number_columns], dtype=np.int32)\n",
    "\n",
    "print(arrays0)\n",
    "\n",
    "#all prints out the same thing \n",
    "\n",
    "\n",
    "#but why does it give just 0\n",
    "# so after testing it out u can change the word zero to ones or zeros then it will change"
   ]
  },
  {
   "cell_type": "code",
   "execution_count": 55,
   "metadata": {},
   "outputs": [],
   "source": [
    "arrays0 = np.zeros([number_rows, number_columns], dtype=np.float32)\n",
    "# u can change it to a float dtype instead of int"
   ]
  },
  {
   "cell_type": "code",
   "execution_count": 47,
   "metadata": {},
   "outputs": [
    {
     "name": "stdout",
     "output_type": "stream",
     "text": [
      "[[1. 1. 1.]\n",
      " [1. 1. 1.]]\n",
      "[[5. 5. 5.]\n",
      " [5. 5. 5.]]\n"
     ]
    }
   ],
   "source": [
    "# array of ones \n",
    "arrays1 = np.ones([number_rows, number_columns])\n",
    "arrays2 = 5 * np.ones([number_rows, number_columns])\n",
    "print(arrays1)\n",
    "print(arrays2)\n",
    "#\n",
    "#"
   ]
  },
  {
   "cell_type": "code",
   "execution_count": 49,
   "metadata": {},
   "outputs": [
    {
     "name": "stdout",
     "output_type": "stream",
     "text": [
      "[[8 8 8]\n",
      " [8 8 8]]\n"
     ]
    }
   ],
   "source": [
    "## arrays of 7 \n",
    "array7 = np.full([number_rows,number_columns], 7)\n",
    "print(array7)\n",
    "\n",
    "#so with this the changes are full function and the 7 at the end of the bracket \n",
    "#number on the list can be changed by change the number the end. \n",
    "#full will fill with ur desired number \n",
    "#rather than multiplyin it at the beginning of the code"
   ]
  },
  {
   "cell_type": "markdown",
   "metadata": {},
   "source": [
    "# CHECK THIS BELOW"
   ]
  },
  {
   "cell_type": "code",
   "execution_count": null,
   "metadata": {},
   "outputs": [],
   "source": [
    "#list vs toggle\n",
    "\n",
    "\n",
    "#\n",
    "# toggle are more faster? effiencet at data?"
   ]
  },
  {
   "cell_type": "code",
   "execution_count": 53,
   "metadata": {},
   "outputs": [
    {
     "name": "stdout",
     "output_type": "stream",
     "text": [
      "[10 13 16 19 22 25]\n"
     ]
    }
   ],
   "source": [
    "# WE CAN also set parameters \n",
    "\n",
    "start = 10\n",
    "end = 27\n",
    "step = 3\n",
    "evenstep = np.arange(start, end, step)\n",
    "#new one is arange \n",
    "print(evenstep)\n",
    "\n",
    "# cause end is 27, the last numeber willl also be ignored"
   ]
  },
  {
   "cell_type": "code",
   "execution_count": 54,
   "metadata": {},
   "outputs": [
    {
     "name": "stdout",
     "output_type": "stream",
     "text": [
      "[10.         15.66666667 21.33333333 27.        ]\n"
     ]
    }
   ],
   "source": [
    "# genrating equall spaced number \n",
    "number_sample = 4\n",
    "evensample = np.linspace(start, end, number_sample)\n",
    "# linspace generatte number with 4 sample\n",
    "print(evensample)\n",
    "\n",
    "#so in this from 10-27 its been split into 4 different sample equally so add up every 5.66666667"
   ]
  },
  {
   "cell_type": "code",
   "execution_count": 56,
   "metadata": {},
   "outputs": [
    {
     "name": "stdout",
     "output_type": "stream",
     "text": [
      "[[1. 0. 0.]\n",
      " [0. 1. 0.]\n",
      " [0. 0. 1.]]\n"
     ]
    }
   ],
   "source": [
    "#indetity matrix between 0 and 1\n",
    "identity = np.eye(3)\n",
    "print(identity)\n",
    "\n",
    "#whar is np.eye a 2x2 identity matrix"
   ]
  },
  {
   "cell_type": "code",
   "execution_count": 68,
   "metadata": {},
   "outputs": [
    {
     "name": "stdout",
     "output_type": "stream",
     "text": [
      "[[0.00600554 0.96565906 0.92816693]\n",
      " [0.95591529 0.9941833  0.06548404]]\n"
     ]
    }
   ],
   "source": [
    "# random matrix\n",
    "# will generate floating numbers between 0 and 1, 1 exclusive so will not be included \n",
    "random01 = np.random.random((2,3)) # obvs 2,3 number of rows, columns \n",
    "print(random01)\n",
    "\n",
    "#everytime u run it will be different between 0 and 1 "
   ]
  },
  {
   "cell_type": "markdown",
   "metadata": {},
   "source": [
    "# CHECK QUESTION BELOW DUONG"
   ]
  },
  {
   "cell_type": "code",
   "execution_count": 83,
   "metadata": {},
   "outputs": [
    {
     "name": "stdout",
     "output_type": "stream",
     "text": [
      "[[2 2 4]\n",
      " [0 1 8]]\n"
     ]
    }
   ],
   "source": [
    "# random.randint\n",
    "# this time with specifc we want it between 00 and 10\n",
    "\n",
    "randomintr = np.random.randint(0,10,(2,3)) # comma is important  # ask chat why\n",
    "print(randomintr)\n",
    "# SO u will find 0-9 but not 10 in output\n",
    "# last number not included"
   ]
  },
  {
   "cell_type": "markdown",
   "metadata": {},
   "source": [
    "# QUESTION DUONG BELOW"
   ]
  },
  {
   "cell_type": "code",
   "execution_count": 91,
   "metadata": {},
   "outputs": [
    {
     "name": "stdout",
     "output_type": "stream",
     "text": [
      "[[5 6 3]\n",
      " [2 5 1]]\n",
      "a has dimension: 2\n",
      "a has dimension: (2, 3)\n",
      "a has dimension: 6\n",
      "a has dimension: int64\n"
     ]
    }
   ],
   "source": [
    "#indexing, inpecting and slicing \n",
    "\n",
    "\n",
    "a = np.array(([5,6,3],[2,5,1]))\n",
    "print(a)\n",
    "print('a has dimension:', a.ndim) # THIS property on the side called what the array has\n",
    "print('a has dimension:', a.shape)\n",
    "print('a has dimension:', a.size)\n",
    "print('a has dimension:', a.dtype)\n",
    "\n",
    "\n",
    "#why is mine always by default dtype 64 and not 32 or otherss "
   ]
  },
  {
   "cell_type": "code",
   "execution_count": null,
   "metadata": {},
   "outputs": [],
   "source": [
    "#"
   ]
  },
  {
   "cell_type": "code",
   "execution_count": 92,
   "metadata": {},
   "outputs": [
    {
     "data": {
      "text/plain": [
       "1"
      ]
     },
     "execution_count": 92,
     "metadata": {},
     "output_type": "execute_result"
    }
   ],
   "source": [
    "#indexing \n",
    "a[1,2]"
   ]
  },
  {
   "cell_type": "code",
   "execution_count": 93,
   "metadata": {},
   "outputs": [
    {
     "data": {
      "text/plain": [
       "array([6, 5])"
      ]
     },
     "execution_count": 93,
     "metadata": {},
     "output_type": "execute_result"
    }
   ],
   "source": [
    "a[0:2,1]\n",
    "\n",
    "#: double colon means 0to2 but excluding 2"
   ]
  },
  {
   "cell_type": "code",
   "execution_count": 94,
   "metadata": {},
   "outputs": [
    {
     "data": {
      "text/plain": [
       "array([5, 6, 3])"
      ]
     },
     "execution_count": 94,
     "metadata": {},
     "output_type": "execute_result"
    }
   ],
   "source": [
    "a[0,:3]"
   ]
  },
  {
   "cell_type": "markdown",
   "metadata": {},
   "source": [
    "# indexing was confusing look over above"
   ]
  },
  {
   "cell_type": "code",
   "execution_count": 95,
   "metadata": {},
   "outputs": [
    {
     "data": {
      "text/plain": [
       "array([5, 5])"
      ]
     },
     "execution_count": 95,
     "metadata": {},
     "output_type": "execute_result"
    }
   ],
   "source": [
    "#diagonal \n",
    "np.diagonal(a)\n",
    "\n",
    "#a based on array above"
   ]
  },
  {
   "cell_type": "code",
   "execution_count": 98,
   "metadata": {},
   "outputs": [
    {
     "name": "stdout",
     "output_type": "stream",
     "text": [
      "[[5 6 3]\n",
      " [2 5 1]\n",
      " [4 4 4]]\n"
     ]
    }
   ],
   "source": [
    "#diagonal using another array b\n",
    "\n",
    "b = np.array([[5,6,3],[2,5,1],[4,4,4,]]) #dont forgrt brackets \n",
    "print(b)"
   ]
  },
  {
   "cell_type": "code",
   "execution_count": null,
   "metadata": {},
   "outputs": [],
   "source": []
  },
  {
   "cell_type": "code",
   "execution_count": 99,
   "metadata": {},
   "outputs": [
    {
     "data": {
      "text/plain": [
       "array([5, 5, 4])"
      ]
     },
     "execution_count": 99,
     "metadata": {},
     "output_type": "execute_result"
    }
   ],
   "source": [
    "np.diag(b)# shows diagonal numbers"
   ]
  },
  {
   "cell_type": "code",
   "execution_count": null,
   "metadata": {},
   "outputs": [],
   "source": [
    "# another one \n"
   ]
  },
  {
   "cell_type": "code",
   "execution_count": null,
   "metadata": {},
   "outputs": [],
   "source": [
    "#task 1 \n",
    "arr = [0,2,4,5,3,7,8,9,5,1]\n",
    "\n",
    "num = np.full(arr,arr)\n",
    "if arr % 2 == 1:\n",
    "    print(num)"
   ]
  },
  {
   "cell_type": "code",
   "execution_count": null,
   "metadata": {},
   "outputs": [],
   "source": [
    "arr2 = np.array[(0,2,4,5,3,7,8,9,5,1)]\n",
    "\n",
    "arr2[0,:3]\n",
    "\n",
    "\n",
    "# LOOL I NEED MAD HELP ON THIS ONE"
   ]
  },
  {
   "cell_type": "code",
   "execution_count": 121,
   "metadata": {},
   "outputs": [
    {
     "name": "stdout",
     "output_type": "stream",
     "text": [
      "[ 0  2  4 -5 -3 -7  8 -9 -5 -1]\n"
     ]
    }
   ],
   "source": [
    "# task odd numbers , replace wiht negative valunes tast 1 answer from teacher\n",
    "\n",
    "num_array2 = np.array([0,2,4,5,3,7,8,9,5,1])# girll stop mistaking ur fing brackets square on the inside!!!!!\n",
    "\n",
    "## wrtie a function to calculate the odd nubers \n",
    "odd_num = np.where(num_array2 % 2 == 1)\n",
    "\n",
    "#replace odd number with negative value \n",
    "num_array2[odd_num] *=-1 \n",
    "\n",
    "print(num_array2)\n",
    "\n",
    "\n",
    "#where fuction is ??"
   ]
  },
  {
   "cell_type": "code",
   "execution_count": 127,
   "metadata": {},
   "outputs": [
    {
     "name": "stdout",
     "output_type": "stream",
     "text": [
      "[[ 5  8 13]\n",
      " [ 9  6  4]]\n",
      "[[ 5  8 13]\n",
      " [ 9  6  4]]\n"
     ]
    }
   ],
   "source": [
    "a1 = np.array([[1,2,4],[7,1,3]])\n",
    "a2 = np.array([[4,6,9],[2,5,1]])\n",
    "\n",
    "#addtion\n",
    "addition = a1 + a2 \n",
    "addition1 = np.add(a1,a2)\n",
    "print(addition)\n",
    "print(addition1)"
   ]
  },
  {
   "cell_type": "code",
   "execution_count": 128,
   "metadata": {},
   "outputs": [
    {
     "name": "stdout",
     "output_type": "stream",
     "text": [
      "[[-3 -4 -5]\n",
      " [ 5 -4  2]]\n",
      "[[-3 -4 -5]\n",
      " [ 5 -4  2]]\n"
     ]
    }
   ],
   "source": [
    "# following on\n",
    "#subtraction \n",
    "\n",
    "sub1 = a1 -a2\n",
    "sub2 = np.subtract(a1,a2)\n",
    "print(sub1)\n",
    "print(sub2)"
   ]
  },
  {
   "cell_type": "code",
   "execution_count": 129,
   "metadata": {},
   "outputs": [
    {
     "name": "stdout",
     "output_type": "stream",
     "text": [
      "[[ 4 12 36]\n",
      " [14  5  3]]\n",
      "[[ 4 12 36]\n",
      " [14  5  3]]\n"
     ]
    }
   ],
   "source": [
    "## following on \n",
    "# multplication \n",
    "multi = a1 * a2\n",
    "multi2 = np.multiply(a1,a2)\n",
    "print(multi)\n",
    "print(multi2)"
   ]
  },
  {
   "cell_type": "code",
   "execution_count": 130,
   "metadata": {},
   "outputs": [
    {
     "name": "stdout",
     "output_type": "stream",
     "text": [
      "[[0.25       0.33333333 0.44444444]\n",
      " [3.5        0.2        3.        ]]\n",
      "[[0.25       0.33333333 0.44444444]\n",
      " [3.5        0.2        3.        ]]\n"
     ]
    }
   ],
   "source": [
    "## following on \n",
    "#division \n",
    "\n",
    "divi = a1 / a2\n",
    "divi1 = np.divide(a1,a2)\n",
    "print(divi)\n",
    "print(divi1)"
   ]
  },
  {
   "cell_type": "code",
   "execution_count": 132,
   "metadata": {},
   "outputs": [
    {
     "name": "stdout",
     "output_type": "stream",
     "text": [
      "[[44 20]\n",
      " [57 50]]\n"
     ]
    }
   ],
   "source": [
    "## following on \n",
    "# dot product = whats dot product \n",
    "# well it is \n",
    "\n",
    "a3 = np.array([[4,6,],[2,5],[9,1]])\n",
    "dotp = a1.dot(a3)\n",
    "print(dotp)\n",
    "\n",
    "\n"
   ]
  },
  {
   "cell_type": "code",
   "execution_count": 136,
   "metadata": {},
   "outputs": [
    {
     "name": "stdout",
     "output_type": "stream",
     "text": [
      "[[148.4131591  403.42879349  20.08553692]\n",
      " [  7.3890561  148.4131591    2.71828183]]\n",
      "[[2.23606798 2.44948974 1.73205081]\n",
      " [1.41421356 2.23606798 1.        ]]\n",
      "[[-0.95892427 -0.2794155   0.14112001]\n",
      " [ 0.90929743 -0.95892427  0.84147098]]\n",
      "[[ 0.28366219  0.96017029 -0.9899925 ]\n",
      " [-0.41614684  0.28366219  0.54030231]]\n",
      "[[1.60943791 1.79175947 1.09861229]\n",
      " [0.69314718 1.60943791 0.        ]]\n"
     ]
    }
   ],
   "source": [
    "## following \n",
    "# other calculation \n",
    "# cos, sin, log, sqroot , exp \n",
    "\n",
    "exp = np.exp(a)\n",
    "sqroot = np.sqrt(a)\n",
    "sin = np.sin(a)\n",
    "cos = np.cos(a)\n",
    "log = np.log(a)\n",
    "\n",
    "print(exp)\n",
    "print(sqroot)\n",
    "print(sin)\n",
    "print(cos)\n",
    "print(log)"
   ]
  },
  {
   "cell_type": "code",
   "execution_count": 150,
   "metadata": {},
   "outputs": [
    {
     "name": "stdout",
     "output_type": "stream",
     "text": [
      "2.1921577396609844\n",
      "19\n",
      "[ 8 11]\n",
      "[ 8 11]\n",
      "7\n",
      "[7 2 5]\n",
      "3.1666666666666665\n",
      "[4.  1.5 4. ]\n"
     ]
    }
   ],
   "source": [
    "\n",
    "a5 = np.array([[1,2,5],[7,1,3]])\n",
    "std = np.std(a5)\n",
    "sum1 = np.sum(a5)\n",
    "sum2 = a5.sum(axis=1)\n",
    "sum3 = np.sum(a5, axis=1) #same thing adds 1st row, and the rest in one\n",
    "maximum = a5.max()\n",
    "maximum2 = a5.max(axis=0)\n",
    "\n",
    "#average \n",
    "avg = np.mean(a5) \n",
    "avg2 = np.mean(a5, axis=0)\n",
    "\n",
    "print(std)\n",
    "print(sum1)\n",
    "print(sum2)\n",
    "print(sum3)\n",
    "print(maximum)\n",
    "print(maximum2)\n",
    "\n",
    "print(avg)\n",
    "print(avg2)"
   ]
  },
  {
   "cell_type": "code",
   "execution_count": 154,
   "metadata": {},
   "outputs": [
    {
     "name": "stdout",
     "output_type": "stream",
     "text": [
      "3.0\n",
      "1.5\n",
      "3.3541019662496847\n",
      "1.7320508075688772\n",
      "1.224744871391589\n",
      "1.8314207507423532\n",
      "2.956795678960466\n"
     ]
    }
   ],
   "source": [
    "## triangle \n",
    "A = np.array([0,0])\n",
    "B = np.array([0,3])\n",
    "C = np.array([1.5,0])\n",
    "\n",
    "from numpy import linalg as la \n",
    "AB = la.norm(A-B)\n",
    "AC = la.norm(A-C)\n",
    "BC = la.norm(B-C)\n",
    "\n",
    "#now u can print output \n",
    "print(AB)\n",
    "print(AC)\n",
    "print(BC)\n",
    "\n"
   ]
  },
  {
   "cell_type": "code",
   "execution_count": null,
   "metadata": {},
   "outputs": [],
   "source": [
    "# i think i did pythagoous thoerem wrong \n",
    "\n",
    "sqroot = np.sqrt(AB)\n",
    "sqroot1 = np.sqrt(AC)\n",
    "sqroot2 = np.sqrt(BC)\n",
    "\n",
    "ptheorm = sqroot + sqroot1\n",
    "\n",
    "print(sqroot)\n",
    "print(sqroot1)\n",
    "print(sqroot2)\n",
    "\n",
    "print(ptheorm)"
   ]
  },
  {
   "cell_type": "code",
   "execution_count": 156,
   "metadata": {},
   "outputs": [
    {
     "name": "stdout",
     "output_type": "stream",
     "text": [
      "[[1 2 5]\n",
      " [7 1 3]]\n",
      "[[1 7]\n",
      " [2 1]\n",
      " [5 3]]\n"
     ]
    }
   ],
   "source": [
    "#new array\n",
    "\n",
    "a7 = np.array([[1,2,5],[7,1,3]])\n",
    "\n",
    "## transporting\n",
    "\n",
    "atr1 = np.transpose(a7)\n",
    "atr2 = a7.T\n",
    "\n",
    "print(a7)\n",
    "print(atr2)\n"
   ]
  },
  {
   "cell_type": "code",
   "execution_count": 159,
   "metadata": {},
   "outputs": [
    {
     "name": "stdout",
     "output_type": "stream",
     "text": [
      "[[1 2]\n",
      " [5 7]\n",
      " [1 3]]\n",
      "[1 2 5 7 1 3]\n"
     ]
    }
   ],
   "source": [
    "## reshape \n",
    "\n",
    "reshape1 = np.reshape(a7, (3,2))\n",
    "row = a7.reshape(6)\n",
    "print(reshape1)\n",
    "print(row)"
   ]
  },
  {
   "cell_type": "code",
   "execution_count": 161,
   "metadata": {},
   "outputs": [
    {
     "name": "stdout",
     "output_type": "stream",
     "text": [
      "[[1 2 5 7 8 9]\n",
      " [7 1 3 4 1 9]]\n"
     ]
    }
   ],
   "source": [
    "\n",
    "## brain got fried in 5:50 mins in video \n",
    "a8 = np.array([[1,2,5],[7,1,3]])\n",
    "a9 = np.array([[7,8],[4,1]])\n",
    "a10 = np.array([[9],[9]])\n",
    "\n",
    "abc = np.hstack([a8,a9,a10]) #hstack horizontal order\n",
    "print(abc)"
   ]
  },
  {
   "cell_type": "code",
   "execution_count": 164,
   "metadata": {},
   "outputs": [
    {
     "name": "stdout",
     "output_type": "stream",
     "text": [
      "[[ 1  2  3]\n",
      " [ 4  5  6]\n",
      " [ 7  8  9]\n",
      " [10 11 12]\n",
      " [13 14 15]\n",
      " [16 17 18]]\n"
     ]
    }
   ],
   "source": [
    "#stacking but vstack\n",
    "array1 = np.array([[1,2,3],[4,5,6]])\n",
    "array2 = np.array([[7,8,9],[10,11,12]])\n",
    "array3 = np.array([[13,14,15],[16,17,18]])\n",
    "\n",
    "asd = np.vstack([array1,array2,array3]) #vstack vertical order\n",
    "print(asd)"
   ]
  },
  {
   "cell_type": "code",
   "execution_count": 167,
   "metadata": {},
   "outputs": [
    {
     "name": "stdout",
     "output_type": "stream",
     "text": [
      "[[ 1  2  3  7  8  9 13 14 15]\n",
      " [ 4  5  6 10 11 12 16 17 18]]\n"
     ]
    }
   ],
   "source": [
    "## concatenate \n",
    "ab = np.concatenate((array1,array2,array3), axis=1) #1 axis is like horizontal\n",
    "print(ab)"
   ]
  },
  {
   "cell_type": "code",
   "execution_count": 168,
   "metadata": {},
   "outputs": [
    {
     "name": "stdout",
     "output_type": "stream",
     "text": [
      "[[ 1  2  3]\n",
      " [ 4  5  6]\n",
      " [ 7  8  9]\n",
      " [10 11 12]\n",
      " [13 14 15]\n",
      " [16 17 18]]\n"
     ]
    }
   ],
   "source": [
    "## concatenate \n",
    "ab1 = np.concatenate((array1,array2,array3), axis=0) #0 axis is like veritcal\n",
    "print(ab1)"
   ]
  },
  {
   "cell_type": "code",
   "execution_count": 169,
   "metadata": {},
   "outputs": [],
   "source": [
    "## save a single array to a file \n",
    "np.save('array a', array1)\n",
    "\n",
    "#so this binary file will be saved instead of .py or .iynb its .npy \n",
    "# you wouldnt be able to open it w/o create some code \n"
   ]
  },
  {
   "cell_type": "code",
   "execution_count": 170,
   "metadata": {},
   "outputs": [],
   "source": [
    "\n",
    "#this savez you can save numerous array in one file\n",
    "np.savez('array_ab', arr1 = array1, arr2 = array2)"
   ]
  },
  {
   "cell_type": "code",
   "execution_count": 171,
   "metadata": {},
   "outputs": [],
   "source": [
    "#savetxt will\n",
    "\n",
    "np.savetxt('array_a.txt', array1)\n",
    " #this one will show a the array "
   ]
  },
  {
   "cell_type": "code",
   "execution_count": 175,
   "metadata": {},
   "outputs": [],
   "source": [
    "# delimiter\n",
    "## %d = integer format\n",
    "## %f === float number\n",
    "## %s == string number\n",
    "## %.2f --- float number to the nearest 2 decimal place \n",
    "np.savetxt('array_a4.txt', array1, delimiter=',', fmt='%.2f')"
   ]
  },
  {
   "cell_type": "code",
   "execution_count": 178,
   "metadata": {},
   "outputs": [],
   "source": [
    "# save to a csv file \n",
    "np.savetxt('array.csv', array2,delimiter= ',' , fmt='%d')\n",
    "\n",
    "#also what is a csv file "
   ]
  },
  {
   "cell_type": "code",
   "execution_count": 179,
   "metadata": {},
   "outputs": [
    {
     "name": "stdout",
     "output_type": "stream",
     "text": [
      "[[1 2 3]\n",
      " [4 5 6]]\n"
     ]
    }
   ],
   "source": [
    "# how to open the binary file of just a array \n",
    "# single array and doube array \n",
    "\n",
    "## to load .npy file \n",
    "\n",
    "le = np.load('array a.npy')\n",
    "print(le)\n",
    "\n",
    " \n"
   ]
  },
  {
   "cell_type": "code",
   "execution_count": 183,
   "metadata": {},
   "outputs": [
    {
     "name": "stdout",
     "output_type": "stream",
     "text": [
      "NpzFile 'array_ab.npz' with keys: arr1, arr2\n",
      "[[1 2 3]\n",
      " [4 5 6]]\n",
      "[[ 7  8  9]\n",
      " [10 11 12]]\n"
     ]
    }
   ],
   "source": [
    "## load the npz file \n",
    "\n",
    "lez = np.load('array_ab.npz')\n",
    "print(lez)\n",
    "print(lez['arr1'])\n",
    "print(lez['arr2'])"
   ]
  },
  {
   "cell_type": "code",
   "execution_count": 190,
   "metadata": {},
   "outputs": [
    {
     "name": "stdout",
     "output_type": "stream",
     "text": [
      "[[1. 2. 3.]\n",
      " [4. 5. 6.]]\n"
     ]
    }
   ],
   "source": [
    "## load text file \n",
    "read_text = np.loadtxt('array_a4.txt', delimiter=',')\n",
    "print(read_text)\n",
    "\n",
    "#this ones needs a delimiter? in order to read it "
   ]
  },
  {
   "cell_type": "code",
   "execution_count": 195,
   "metadata": {},
   "outputs": [
    {
     "name": "stdout",
     "output_type": "stream",
     "text": [
      "[[ 7.  8.  9.]\n",
      " [10. 11. 12.]]\n"
     ]
    }
   ],
   "source": [
    "## load a csv file \n",
    "\n",
    "\n",
    "read_textcsv = np.loadtxt('array.csv', delimiter=',')\n",
    "print(read_textcsv)"
   ]
  },
  {
   "cell_type": "code",
   "execution_count": 199,
   "metadata": {},
   "outputs": [],
   "source": [
    "# task 2 \n",
    "\n",
    "new_array = np.array([[1.89, 2.23, 3.35], [5.30, 7.75,5.65], [1.89, 3.01, 4.56]])\n",
    "\n",
    "## round of the array to the nearest 1 decimal place\n",
    "new_array = np.round(new_array, decimals=1)\n",
    "\n",
    "#add column header \n",
    "column_header = ['col1', 'col2', 'col3']\n",
    "\n",
    "# add row header \n",
    "\n",
    "row_header = ['----'], ['row1'], ['row2'], ['row3']\n",
    "\n",
    "## stacking rows and columns header to the arrays \n",
    "array_with_header = np.vstack([column_header, new_array])\n",
    "\n",
    "final_array = np.hstack([row_header,array_with_header])\n",
    "\n",
    "# save the array to a csv file \n",
    "np.savetxt('arrayfile.csv', final_array, delimiter=',', fmt='%s')\n",
    "\n",
    "\n",
    "\n",
    "\n"
   ]
  },
  {
   "cell_type": "markdown",
   "metadata": {},
   "source": [
    "\n",
    "# pip3 install numpy for mac - all done ! \n",
    "#      ━━━━━━━━━━━━━━━━━━━━━━━━━━━━━━━━━━━━━━━━ 61.2/61.2 kB 1.1 MB/s eta 0:00:00\n",
    "# Downloading numpy-1.26.3-cp312-cp312-macosx_10_9_x86_64.whl (20.3 MB)\n",
    "   ━━━━━━━━━━━━━━━━━━━━━━━━━━━━━━━━━━━━━━━━ 20.3/20.3 MB 6.0 MB/s eta 0:00:00\n",
    "# Installing collected packages: numpy\n",
    "# Successfully installed numpy-1.26.3\n",
    "\n",
    "# [notice] A new release of pip is available: 23.2.1 -> 23.3.2\n",
    "# [notice] To update, run: python3.12 -m pip install --upgrade pip (should i update it)\n",
    "# code to update was pip3 install --upgrade pip DONE!!\n"
   ]
  }
 ],
 "metadata": {
  "kernelspec": {
   "display_name": "Python 3",
   "language": "python",
   "name": "python3"
  },
  "language_info": {
   "codemirror_mode": {
    "name": "ipython",
    "version": 3
   },
   "file_extension": ".py",
   "mimetype": "text/x-python",
   "name": "python",
   "nbconvert_exporter": "python",
   "pygments_lexer": "ipython3",
   "version": "3.12.1"
  }
 },
 "nbformat": 4,
 "nbformat_minor": 2
}

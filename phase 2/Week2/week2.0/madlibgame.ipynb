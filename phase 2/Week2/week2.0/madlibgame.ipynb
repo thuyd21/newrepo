{
 "cells": [
  {
   "cell_type": "code",
   "execution_count": null,
   "metadata": {},
   "outputs": [],
   "source": [
    "\n",
    "noun = input(\"enter noun\")\n",
    "verb = input (\"enter verb\")\n",
    "noun2 = input(\"enter noun\")\n",
    "\n",
    "\n",
    "\n",
    "madlib = \"Hey! Welcome to my\", noun, '.', \"Here, we\", verb, 'about', noun2, '.'\n",
    "\n",
    "\n",
    "print(madlib)\n"
   ]
  },
  {
   "cell_type": "code",
   "execution_count": null,
   "metadata": {},
   "outputs": [],
   "source": [
    "example = str(input(\"enter a noun\"))\n",
    "text = len(example)\n",
    "print(example)"
   ]
  },
  {
   "cell_type": "code",
   "execution_count": 2,
   "metadata": {},
   "outputs": [
    {
     "name": "stdout",
     "output_type": "stream",
     "text": [
      "Hey!,jo, Welcome to my ho. Here, we love to ho about ho.\n"
     ]
    }
   ],
   "source": [
    "name = input(\"enter your name: \")\n",
    "noun = input(\"enter noun: \")\n",
    "verb = input (\"enter verb: \")\n",
    "noun2 = input(\"enter noun: \")\n",
    "\n",
    "#madlib sentence  \n",
    "#\"Hey! Welcome to my ____noun___. Here, we __verb_,about ___noun2___.\n",
    "madlib = f\"Hey!,{name}, Welcome to my {noun}. Here, we love to {verb} about {noun2}.\"\n",
    "\n",
    "print(madlib)"
   ]
  },
  {
   "cell_type": "code",
   "execution_count": 5,
   "metadata": {},
   "outputs": [
    {
     "name": "stdout",
     "output_type": "stream",
     "text": [
      "Mighty NICK CANNON, armed with the BABIES, on a brave quest to discover the dragon and defeat England.\n",
      "They journeyed through the Sea Voyage and encountered goblins, adding a new layer of hope to their quest.\n"
     ]
    }
   ],
   "source": [
    "\n",
    "# version 3 \n",
    "\n",
    "import random\n",
    "\n",
    "adjectives = [\"brave\", \"mysterious\", \"ancient\", \"enchanting\"]\n",
    "verbs = [\"defeat\", \"discover\", \"explore\", \"rescue\"]\n",
    "evil_creatures = [\"dragon\", \"witch\", \"goblin\", \"dark sorcerer\"]\n",
    "countries = [\"England\", \"Vietnam\", \"Barbados\", \"Hyrule\"]\n",
    "\n",
    "location = [\"Mysterious Caves\",\"Enchanted Forest\",\"Sea Voyage\"]\n",
    "mysticalbeings = [ \"goblins\", \"satyrs\", \"minotaur\", \"daleks\" ]\n",
    "mystery = [\"danger\", \"hope\",]\n",
    "\n",
    "\n",
    "name = input(\"Enter your name: \")\n",
    "LegendaryWeapon = input(\"Enter a Legendary Weapon: \")\n",
    "\n",
    "adjective = random.choice(adjectives)\n",
    "verb2 = random.choice(verbs)\n",
    "evilcreature = random.choice(evil_creatures)\n",
    "verb3 = random.choice(verbs)\n",
    "Country = random.choice(countries)\n",
    "\n",
    "location = random.choice(location)\n",
    "mysticalbeings = random.choice(mysticalbeings)\n",
    "mystery = random.choice(mystery)\n",
    "\n",
    "madlib1 = f\"Mighty {name}, armed with the {LegendaryWeapon}, on a {adjective} quest to {verb2} the {evilcreature} and {verb3} {Country}.\"\n",
    "madlib2 = f\"They journeyed through the {location} and encountered {mysticalbeings}, adding a new layer of {mystery} to their quest.\"\n",
    "\n",
    "print(madlib1)\n",
    "print(madlib2)"
   ]
  },
  {
   "cell_type": "code",
   "execution_count": null,
   "metadata": {},
   "outputs": [],
   "source": [
    "import sys\n",
    "import numpy as np\n",
    "\n",
    "name = input('Welcome to the game! Enter your name?')\n",
    "print(\"\\nGame starting...\")\n",
    "print('\\nWell Hello ' + name + '!!!.')\n",
    "print(\"You find yourself in a dark room. There are two doors in front of you.\")\n",
    "print('\\nPlease pick a room:')\n",
    "\n",
    "# Define the rooms and their descriptions\n",
    "rooms = {\n",
    "    \"Start\": \"There is a door to the east and south.\",\n",
    "    \"Blue Door\": \"You are in the Blue room. You dead. Gameover\",\n",
    "    \"Red Door\": \"You are in the Red room. There are doors to the east and south.\",\n",
    "    \"Gold Door\": \"You are in the Gold room. There are doors to the west, east and south.\",\n",
    "    \"Ice Door\": \"You are in the Ice room. There are doors to the west and east.\",\n",
    "    \"Fire Door\": \"You are in the Fire room. You dead.\",\n",
    "    \"EXIT\": \"Congratulations! You have reached freedom.\"\n",
    "}\n",
    "\n",
    "# Define the game world as a 2D array\n",
    "game_map = [\n",
    "    [\"Start\", \"Red Door\", \"Brass Door\"],\n",
    "    [\"Blue Door\", \"Gold Door\", \"EXIT\"],\n",
    "    [\"EXIT\", \"Ice Door\", \"Fire Door\"]\n",
    "]\n",
    "\n",
    "# Set up the initial room and player's position\n",
    "current_room = (0, 0)\n",
    "\n",
    "# Main game loop\n",
    "while True:\n",
    "    # Print the current room description\n",
    "    print(rooms[game_map[current_room[0]][current_room[1]]])\n",
    "\n",
    "    # Print the map\n",
    "    for row in game_map:\n",
    "        for cell in row:\n",
    "            if cell == game_map[current_room[0]][current_room[1]]:\n",
    "                print(\"[P]\", end=\"\")  # Player's current position\n",
    "            else:\n",
    "                print(\"[ ]\", end=\"\")  # Explored cell\n",
    "        print()\n",
    "    sys.exit(0) \n"
   ]
  },
  {
   "cell_type": "code",
   "execution_count": null,
   "metadata": {},
   "outputs": [],
   "source": [
    "       break\n",
    "    if game_map[current_room[0]][current_room[2-1]] == \"Brass Door\":\n",
    "        print(\"You entered the Brass Door!\")\n",
    "        break\n",
    "    if game_map[current_room[1]][current_room[2]] == \"EXIT\":\n",
    "        print(\"You have reached the exit!\")\n",
    "        break\n",
    "    if game_map[current_room[1]][current_room[2]] == \"EXIT\":\n",
    "        print(\"You have reached the exit!\")\n",
    "        break\n",
    "    if game_map[current_room[1]][current_room[1]] == \"Gold Room\":\n",
    "        print(\"You have reached the Gold Room!\")\n",
    "        break\n",
    "    if game_map[current_room[2]][current_room[1]] == \"Ice Door\":\n",
    "        print(\"You have reached the Ice Door!\")\n",
    "        break\n",
    "    if game_map[current_room[2]][current_room[2]] == \"Fire Door\":\n",
    "        print(\"You have reached the Fire Door!\")"
   ]
  }
 ],
 "metadata": {
  "kernelspec": {
   "display_name": "Python 3",
   "language": "python",
   "name": "python3"
  },
  "language_info": {
   "codemirror_mode": {
    "name": "ipython",
    "version": 3
   },
   "file_extension": ".py",
   "mimetype": "text/x-python",
   "name": "python",
   "nbconvert_exporter": "python",
   "pygments_lexer": "ipython3",
   "version": "3.12.1"
  }
 },
 "nbformat": 4,
 "nbformat_minor": 2
}

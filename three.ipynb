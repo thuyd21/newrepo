{
 "cells": [
  {
   "cell_type": "code",
   "execution_count": null,
   "metadata": {},
   "outputs": [],
   "source": [
    "## string \n",
    "\n",
    "\"thuy\", \"21\"\n",
    "\n",
    "## integer\n",
    "\n",
    "10, -1 , 22, 12\n",
    "\n",
    "## float \n",
    "\n",
    "3.142, 21.06, 0.09\n",
    "\n",
    "### boolen - data type that is a binary condition, \n",
    "##          typically expressed as either true or false (or used to represent logical values)\n",
    "#   for instance in python \n",
    "#   x = true y = false\n",
    "2 < 3 -- True, False"
   ]
  },
  {
   "cell_type": "code",
   "execution_count": 2,
   "metadata": {},
   "outputs": [],
   "source": [
    "#these two mean two different data types one is a string and on is integer etc\n",
    "a = '10'\n",
    "a = 10\n",
    "a = 1.1 "
   ]
  },
  {
   "cell_type": "code",
   "execution_count": 1,
   "metadata": {},
   "outputs": [
    {
     "name": "stdout",
     "output_type": "stream",
     "text": [
      "1010\n"
     ]
    }
   ],
   "source": [
    "a = '10'\n",
    "b = '10'\n",
    "total = a + b\n",
    "print(total)\n",
    "# answer would be 1010 as python treated it as a string hence adding it together as two different words, like apple+pen"
   ]
  },
  {
   "cell_type": "code",
   "execution_count": 3,
   "metadata": {},
   "outputs": [
    {
     "name": "stdout",
     "output_type": "stream",
     "text": [
      "20\n"
     ]
    }
   ],
   "source": [
    "a = 10\n",
    "b = 10\n",
    "total = a + b\n",
    "print(total)\n",
    "\n",
    "# when adding integers it would be a sum of the number"
   ]
  },
  {
   "cell_type": "code",
   "execution_count": 4,
   "metadata": {},
   "outputs": [
    {
     "name": "stdout",
     "output_type": "stream",
     "text": [
      "5.0\n"
     ]
    }
   ],
   "source": [
    "a = 1.2 \n",
    "b = 3.8\n",
    "total = a + b \n",
    "print(total)\n",
    "\n"
   ]
  },
  {
   "cell_type": "code",
   "execution_count": null,
   "metadata": {},
   "outputs": [],
   "source": [
    "name = 'i don't like fish'\n",
    "name1 = \"i dont like fish\"\n",
    "\n",
    "# question: does it matter if you use ' ' vs \" \"\n",
    "# when it comes to text using the double quotations is better when it comes to words with commas in it\n",
    "# with integers, float and boolean its fine regardless, it would have any problems like that example above"
   ]
  },
  {
   "cell_type": "code",
   "execution_count": null,
   "metadata": {},
   "outputs": [],
   "source": [
    "# what is a variable?\n",
    "# it is a storage location with a name that identifies it\n",
    "# contains info, which is referred as it's value\n",
    "# variables names should be meaning, so its easy to  read and other ppl can understand it \n",
    "\n",
    "#  variables are ie from above name, a , b ,total , \n",
    "#  values are what comes after the varibles (after the =)\n",
    "\n",
    "a = \"mango\" \n",
    "fruit = \"mango\"\n",
    "fruitnames = \"mango\"\n",
    "fruit_names = \"mango\"\n",
    "\n",
    "#however, when a varible has a space it is invalid \n",
    "\n",
    "fruit names = \"mango\""
   ]
  },
  {
   "cell_type": "code",
   "execution_count": 11,
   "metadata": {},
   "outputs": [
    {
     "name": "stdout",
     "output_type": "stream",
     "text": [
      "1.2\n",
      "hi\n"
     ]
    }
   ],
   "source": [
    "# The Assignment Operator (aka the =)\n",
    "# to assign a value to a varible we use the assignment operator =\n",
    "#        variablename = value\n",
    "\n",
    "# to make it easy to read add 1 assignment per line\n",
    "#    variable1 = value\n",
    "#    variable2 = value\n",
    "\n",
    "# an assignment can be an expression\n",
    "#    total = value1 + value2\n",
    "\n",
    "\n",
    "# turns out even if you split the code it still interlinked i think need to double check as it cant define name if its not written in this containter\n",
    " \n",
    "\n",
    "print(a)\n",
    "name = \"hi\"\n",
    "print(name)"
   ]
  },
  {
   "cell_type": "code",
   "execution_count": 16,
   "metadata": {},
   "outputs": [
    {
     "name": "stdout",
     "output_type": "stream",
     "text": [
      "11\n"
     ]
    }
   ],
   "source": [
    "## the input function\n",
    "#  collects input from user into the program\n",
    "# \n",
    "# assgining a input into a variable \n",
    "# number1 = input('please enter a number')\n",
    "# number2 = input('please enter a second number')\n",
    "\n",
    "number1 = input('please enter a number')\n",
    "number2 = input('please enter a second number')\n",
    "\n",
    "newtotal = number1 + number2\n",
    "\n",
    "print(newtotal)\n",
    "\n",
    "#gives/treats the answer/result as a string (1+1= 11 instead of 2)"
   ]
  },
  {
   "cell_type": "code",
   "execution_count": 22,
   "metadata": {},
   "outputs": [
    {
     "name": "stdout",
     "output_type": "stream",
     "text": [
      "24\n"
     ]
    }
   ],
   "source": [
    "# we need to convert input to integer \n",
    "# ask chatgpt why later\n",
    "# why my code has little colours\n",
    "\n",
    "number3 = int(input('please enter a number'))\n",
    "number4 = int(input('please enter a second number'))\n",
    "\n",
    "newtotal1 = number3 + number4\n",
    "\n",
    "print(newtotal1)\n",
    "\n",
    "#so now to the covert it to an interger we need function int() it now sums the digits together"
   ]
  },
  {
   "cell_type": "code",
   "execution_count": 24,
   "metadata": {},
   "outputs": [
    {
     "name": "stdout",
     "output_type": "stream",
     "text": [
      "2\n"
     ]
    }
   ],
   "source": [
    "# another way to convert it to integer \n",
    "# by putting int in the value of another assigment operator \n",
    "\n",
    "\n",
    "number5 = input('please enter a number')\n",
    "number6 = input('please enter a second number')\n",
    "\n",
    "newtotal2 = int(number5) + int(number6)\n",
    "# cant put int(number5 +number6)\n",
    "# otherwise they will add it like a string\n",
    "print(newtotal2)"
   ]
  },
  {
   "cell_type": "code",
   "execution_count": 30,
   "metadata": {},
   "outputs": [
    {
     "name": "stdout",
     "output_type": "stream",
     "text": [
      "3.4\n",
      "3\n",
      "2\n",
      "3.4\n"
     ]
    }
   ],
   "source": [
    "# maths operators:\n",
    "# + = add\n",
    "# - = subtract\n",
    "# * = mulitply\n",
    "# / = divide\n",
    "# // = integer division\n",
    "# % = modulus (the remainder)\n",
    "\n",
    "\n",
    "# normal divisions may result in decimal number \n",
    "num1 = 17\n",
    "num2 = 5\n",
    "mtotal = num1 / num2\n",
    "print(mtotal)\n",
    "\n",
    "# integer division give whole number \n",
    "num3 = 17\n",
    "num4 = 5\n",
    "mtotal1 = num3 // num4\n",
    "print(mtotal1)\n",
    "\n",
    "# modulus gives just the remainder after division\n",
    "num5 = 17\n",
    "num6 = 5\n",
    "mtotal2 = num5 % num6\n",
    "print(mtotal2)\n",
    "\n",
    "\n",
    "#another way to write simplier \n",
    "calc = 17/5\n",
    "print(calc)\n"
   ]
  },
  {
   "cell_type": "code",
   "execution_count": null,
   "metadata": {},
   "outputs": [],
   "source": []
  },
  {
   "cell_type": "markdown",
   "metadata": {},
   "source": []
  }
 ],
 "metadata": {
  "kernelspec": {
   "display_name": "Python 3",
   "language": "python",
   "name": "python3"
  },
  "language_info": {
   "codemirror_mode": {
    "name": "ipython",
    "version": 3
   },
   "file_extension": ".py",
   "mimetype": "text/x-python",
   "name": "python",
   "nbconvert_exporter": "python",
   "pygments_lexer": "ipython3",
   "version": "3.12.1"
  }
 },
 "nbformat": 4,
 "nbformat_minor": 2
}

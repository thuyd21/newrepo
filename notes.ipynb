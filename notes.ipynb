{
 "cells": [
  {
   "cell_type": "code",
   "execution_count": null,
   "metadata": {},
   "outputs": [],
   "source": [
    "# tuesday 9th of jan part 2 (of video 1)\n",
    "\n",
    "#loops\n",
    "\n",
    "# a loop is a control flow construct \n",
    "# which alllows block of code to be executed repeatedly\n",
    "# ie for loop\n",
    "#  while loop\n",
    "\n",
    "\n",
    "# it is appropriate to use a forloop if you know in advance how many times you want a section of code to be repeated\n",
    "# the variable counter increments with every iteration of the for loop\n",
    "# when the counter reaches 10 increments the indented code will no longer run\n",
    "\n",
    "# code:\n",
    "# for counter in range(10):\n",
    "# print(counter)\n",
    "\n",
    "\n",
    "# Definte Iteraion \n",
    "# the number of iterations is known prior to entry"
   ]
  },
  {
   "cell_type": "code",
   "execution_count": 9,
   "metadata": {},
   "outputs": [
    {
     "name": "stdout",
     "output_type": "stream",
     "text": [
      "1 4 7 10 13 16 19 "
     ]
    }
   ],
   "source": [
    "#  task 1: range\n",
    "#  has to have the  colon at the end \n",
    "#  by default it will start from 0\n",
    "# for i in range (21): will print only up to 20\n",
    "# adding a number before, will ensure it starts with 1 ie\n",
    "# for i in range(1,21):\n",
    "# adding a third number in range bracket will give it increments \n",
    "# range(stop) -> range object range(start, stop[, step]) -> range object\n",
    "#Return an object that produces a sequence of integers from start (inclusive) to stop (exclusive) by step. range(i, j) produces i, i+1, i+2, ..., j-1. start defaults to 0, and stop is omitted! range(4) produces 0, 1, 2, 3. \n",
    "#These are exactly the valid indices for a list of 4 elements. \n",
    "#When step is given, it specifies the increment (or decrement).\n",
    "\n",
    "for i in range(1,21,3):\n",
    "     print(i, end=' ')\n",
    "\n",
    "# must have indetation(space) in order to print \n",
    "     \n",
    "# to print the numbers on the same line\n",
    "\n",
    "# print(i, end=',') adding a comma or a space ensures it spaced out"
   ]
  },
  {
   "cell_type": "code",
   "execution_count": null,
   "metadata": {},
   "outputs": [],
   "source": [
    "#task 2\n",
    "# make a times table from 1 to 12 \n",
    "# with a for loop \n",
    "# extra: print all times tables up to the one selected\n",
    "\n",
    "# 4 times table: (manual ver)\n",
    "for t in range(4,49,4):\n",
    "     print(t,end=' ')\n",
    "\n",
    "#improved ver\n",
    "times_table = int(input(\"what times table would you like?\"))\n",
    "for tt in range(0,13):\n",
    "     print(tt*times_table, end=',')\n",
    "\n",
    "#HIGHER LVL to print the whole table \n",
    "\n",
    "timetable = int(input(\"please enter timetable for me to print:\"))\n",
    "maxnumber = int(input(\"what is the max number for me to calculate?\"))\n",
    "\n",
    "for ttt in range(1, maxnumber + 1):\n",
    "     print(str(ttt)+ \" x \" + str(timetable) + \" = \", ttt * timetable)\n",
    "\n",
    "\n"
   ]
  },
  {
   "cell_type": "code",
   "execution_count": 25,
   "metadata": {},
   "outputs": [
    {
     "name": "stdout",
     "output_type": "stream",
     "text": [
      "1 x 12 = 12\n",
      "2 x 12 = 24\n",
      "3 x 12 = 36\n",
      "4 x 12 = 48\n",
      "5 x 12 = 60\n",
      "6 x 12 = 72\n",
      "7 x 12 = 84\n",
      "8 x 12 = 96\n",
      "9 x 12 = 108\n",
      "10 x 12 = 120\n",
      "11 x 12 = 132\n",
      "12 x 12 = 144\n"
     ]
    }
   ],
   "source": [
    "#from teacher \n",
    "# prompt from user for time table\n",
    "\n",
    "table = int(input(\"what times table would you like?\"))\n",
    "\n",
    "# use a for loop to display the times table from 1 to 12\n",
    "for x in range(1,13):\n",
    "    print(x, \"x\", table, \"=\", table * x )\n",
    "    \n",
    "#its givinnn more cleaner of all three"
   ]
  },
  {
   "cell_type": "code",
   "execution_count": 40,
   "metadata": {},
   "outputs": [
    {
     "name": "stdout",
     "output_type": "stream",
     "text": [
      "hi hi hi \n"
     ]
    }
   ],
   "source": [
    "#task 3\n",
    "# ask user for msg + no.of times repeated\n",
    "#output msg and no.of times required\n",
    "# in no.of each repetition\n",
    "# modify code so it starts from 1 not 0\n",
    "\n",
    "\n",
    "#input from user\n",
    "text = input(\"please enter your text:\")\n",
    "#no.repeated\n",
    "num = int(input(\"please enter the number of times for it to be repeated:\"))\n",
    "\n",
    "for w in range(1):\n",
    "    print(text * num)"
   ]
  },
  {
   "cell_type": "code",
   "execution_count": 49,
   "metadata": {},
   "outputs": [
    {
     "name": "stdout",
     "output_type": "stream",
     "text": [
      "1 : hi\n",
      "2 : hi\n",
      "3 : hi\n",
      "4 : hi\n"
     ]
    }
   ],
   "source": [
    "#ANSWER FROM TEACHER (i ignored w)\n",
    "\n",
    "#input from user\n",
    "text1 = input(\"please enter your text:\")\n",
    "#no.repeated\n",
    "num1 = int(input(\"please enter the number of times for it to be repeated:\"))\n",
    "\n",
    "#print\n",
    "for msg in range(1, num1+1):\n",
    "    print(msg,':', text1)"
   ]
  },
  {
   "cell_type": "code",
   "execution_count": 51,
   "metadata": {},
   "outputs": [
    {
     "name": "stdout",
     "output_type": "stream",
     "text": [
      "230\n"
     ]
    }
   ],
   "source": [
    "#Natural Selection\n",
    "#next powerpoint (last 30mins of first video tuesday 09.01.24)\n",
    "\n",
    "# assignment operators \n",
    "# used to assign values to variables ( x = 23 )\n",
    "\n",
    "# there are also operators that perform mathematical operations and then reassigns to the same varible( x += 10 )\n",
    "\n",
    "\n",
    "# DESCRIPTION                    OPERATOR\n",
    "#   assign                           = \n",
    "# add then reassign                 +=\n",
    "# subtract then reassign            -=\n",
    "# multiply then reassign            *=\n",
    "# divide then reassign              /=\n",
    "# mod then reassign                 %=\n",
    "# integer divide then reassign     //=\n",
    "\n",
    "\n",
    "q = 23\n",
    "q += 10\n",
    "print(q)\n",
    "\n",
    "#which makes q 33 now, as q is now been reassigned\n"
   ]
  },
  {
   "cell_type": "code",
   "execution_count": 54,
   "metadata": {},
   "outputs": [
    {
     "data": {
      "text/plain": [
       "False"
      ]
     },
     "execution_count": 54,
     "metadata": {},
     "output_type": "execute_result"
    }
   ],
   "source": [
    "# relations operators \n",
    "\n",
    "# diffeent forms of expressions \n",
    "# Expression used for making comparisons \n",
    "# know as BOOLEAN expressions\n",
    "\n",
    "# DESCRIPTION               OPERATOR\n",
    "# equal to                     == \n",
    "# les than                      <\n",
    "# greater than                  >\n",
    "# not equal to                 !=\n",
    "# less than or equal to        <=\n",
    "# greater than or equal to     >=\n",
    "\n",
    "w = 2\n",
    "w == 2 \n",
    "#is not the same\n",
    "# if the expression operator is correct it will return/output with true\n",
    "# if not then returns false"
   ]
  },
  {
   "cell_type": "code",
   "execution_count": 60,
   "metadata": {},
   "outputs": [],
   "source": [
    "#logical operators \n",
    "# logical test can be combined use AND, OR , NOT\n",
    "\n",
    "#selection statement \n",
    "# if logicaltest: \n",
    "#     code to run if true (continues the code program)\n",
    "#                 if false (continue after the indented code)\n",
    "\n",
    "\n",
    "age = int(input(\"please enter you age:\"))\n",
    "if age > 18:\n",
    "    print(\"Welcome\")\n",
    "\n",
    "# if false program is terminated if there is nothing else\n"
   ]
  },
  {
   "cell_type": "code",
   "execution_count": null,
   "metadata": {},
   "outputs": [],
   "source": [
    "# task 4\n",
    "# ask user for 2 numbers \n",
    "one = float(input(\"enter first number:\"))\n",
    "two = float(input(\"enter second number:\"))\n",
    "\n",
    "# implement condition\n",
    "if one > two:\n",
    "    print(str(\"the first number is greater than the second number!\"))\n",
    "else:\n",
    "    print('the second number is greater than the first number')\n",
    "# if statement is false we can use else command \n",
    "    "
   ]
  },
  {
   "cell_type": "code",
   "execution_count": 66,
   "metadata": {},
   "outputs": [
    {
     "name": "stdout",
     "output_type": "stream",
     "text": [
      "you are too young\n"
     ]
    }
   ],
   "source": [
    "# if you want to handle mupltiple conditions then we can use elif command\n",
    "# elif means \n",
    "    \n",
    "# example \n",
    "age = int(input(\"please enter you age:\"))\n",
    "if age > 18:\n",
    "    print(\"Welcome!\")\n",
    "elif age > 13:\n",
    "    print(\"please come with a gaurdian\")\n",
    "else:\n",
    "    print(\"you are too young to enter\")\n"
   ]
  },
  {
   "cell_type": "code",
   "execution_count": 75,
   "metadata": {},
   "outputs": [
    {
     "name": "stdout",
     "output_type": "stream",
     "text": [
      "Yay u were born on a leap year!\n"
     ]
    }
   ],
   "source": [
    "#task 5\n",
    "#create a program that will decide if you were born in a leap year\n",
    "# hint use %\n",
    "bday = int(input(\"Please enter the year you was born:\"))\n",
    "if bday / 4:\n",
    "    print('Yay u were born on a leap year!')\n",
    "else:\n",
    "    print('aww cute')\n",
    "\n",
    "#but i couldnt figure it out with % as it gave me wrong answer \n",
    "#but happy with my answer nevertheless\n"
   ]
  },
  {
   "cell_type": "code",
   "execution_count": 76,
   "metadata": {},
   "outputs": [
    {
     "name": "stdout",
     "output_type": "stream",
     "text": [
      "Yay u were born on a leap year!\n"
     ]
    }
   ],
   "source": [
    "# answer from teacher \n",
    "    \n",
    "year = int(input(\"Please enter the year you was born:\"))\n",
    "if year % 4 ==0:\n",
    "        print('Yay u were born on a leap year!')\n",
    "else:\n",
    "    print('aww cute')\n",
    "\n",
    "#with the % it needed ==0 (which means remainder needed to equal to 0, meaning it had to be in the divison of 4 with zero remainders)\n"
   ]
  },
  {
   "cell_type": "code",
   "execution_count": null,
   "metadata": {},
   "outputs": [],
   "source": [
    "# is to put it in a list use [ ]\n",
    "# if you hight and put \" \" then it will comma the whole selected things \n",
    "#"
   ]
  }
 ],
 "metadata": {
  "kernelspec": {
   "display_name": "Python 3",
   "language": "python",
   "name": "python3"
  },
  "language_info": {
   "codemirror_mode": {
    "name": "ipython",
    "version": 3
   },
   "file_extension": ".py",
   "mimetype": "text/x-python",
   "name": "python",
   "nbconvert_exporter": "python",
   "pygments_lexer": "ipython3",
   "version": "3.12.1"
  }
 },
 "nbformat": 4,
 "nbformat_minor": 2
}
